{
 "cells": [
  {
   "cell_type": "code",
   "execution_count": null,
   "metadata": {
    "collapsed": true
   },
   "outputs": [],
   "source": [
    "#Helps reading http.\n",
    "import requests\n",
    "#Finds pathnames\n",
    "import glob\n",
    "#manipulation files and path names\n",
    "import os"
   ]
  },
  {
   "cell_type": "markdown",
   "metadata": {},
   "source": [
    "# Pulling and analyising \"NR Abstimmungsdatenbank\""
   ]
  },
  {
   "cell_type": "markdown",
   "metadata": {},
   "source": [
    "Quelle: [Parlament.ch](https://www.parlament.ch/de/ratsbetrieb/abstimmungen/abstimmung-nr-xls)"
   ]
  },
  {
   "cell_type": "code",
   "execution_count": null,
   "metadata": {
    "collapsed": false
   },
   "outputs": [],
   "source": [
    "requests.get('https://www.parlament.ch/centers/documents/_layouts/15/DocIdRedir.aspx?ID=DOCID-1-8569')"
   ]
  },
  {
   "cell_type": "code",
   "execution_count": null,
   "metadata": {
    "collapsed": false
   },
   "outputs": [],
   "source": [
    "#Testing the download\n",
    "dls = \"https://www.parlament.ch/centers/documents/_layouts/15/DocIdRedir.aspx?ID=DOCID-1-8569\"\n",
    "resp = requests.get(dls)\n",
    "with open('data2/test.xls', 'wb') as output:\n",
    "    output.write(resp.content)"
   ]
  },
  {
   "cell_type": "code",
   "execution_count": null,
   "metadata": {
    "collapsed": false
   },
   "outputs": [],
   "source": [
    "#Iterating trough files and saving them off. Max: 8600\n",
    "for number in range(8300, 8320):\n",
    "    dls = \"https://www.parlament.ch/centers/documents/_layouts/15/DocIdRedir.aspx?ID=DOCID-1-\" + str(number)\n",
    "    resp = requests.get(dls)\n",
    "    with open('data2/' + str(number) + '.xls', 'wb') as output:\n",
    "        output.write(resp.content)"
   ]
  },
  {
   "cell_type": "code",
   "execution_count": null,
   "metadata": {
    "collapsed": false
   },
   "outputs": [],
   "source": [
    "#Now getting all the files names\n",
    "list_of_files = []\n",
    "for name in glob.glob('data2/*'):\n",
    "    name = name.split('/')[-1]\n",
    "    list_of_files.append(name)"
   ]
  },
  {
   "cell_type": "code",
   "execution_count": null,
   "metadata": {
    "collapsed": false
   },
   "outputs": [],
   "source": [
    "#And deleting the ones that weren't .xls files\n",
    "for data in list_of_files:\n",
    "    try:\n",
    "        df = pd.read_excel('data2/' + data, header=8)\n",
    "    except:\n",
    "        'XLRDError'\n",
    "        os.remove('data2/' + data)"
   ]
  },
  {
   "cell_type": "markdown",
   "metadata": {},
   "source": [
    "# Molding the DF"
   ]
  },
  {
   "cell_type": "code",
   "execution_count": null,
   "metadata": {
    "collapsed": true
   },
   "outputs": [],
   "source": [
    "import pandas as pd"
   ]
  },
  {
   "cell_type": "code",
   "execution_count": null,
   "metadata": {
    "collapsed": false
   },
   "outputs": [],
   "source": [
    "df = pd.read_excel('data/5005-2016-herbstsession-d.xlsx')\n",
    "df.head(10)"
   ]
  },
  {
   "cell_type": "code",
   "execution_count": null,
   "metadata": {
    "collapsed": false
   },
   "outputs": [],
   "source": [
    "#Pulling out the whole df, using only the headers\n",
    "df = pd.read_excel('data/5005-2016-herbstsession-d.xlsx', header=8)"
   ]
  },
  {
   "cell_type": "code",
   "execution_count": null,
   "metadata": {
    "collapsed": false
   },
   "outputs": [],
   "source": [
    "df.head(2)"
   ]
  },
  {
   "cell_type": "code",
   "execution_count": null,
   "metadata": {
    "collapsed": false
   },
   "outputs": [],
   "source": [
    "#Pulling out name of the politicians\n",
    "df_name = pd.read_excel('data/5005-2016-herbstsession-d.xlsx', header=2)"
   ]
  },
  {
   "cell_type": "code",
   "execution_count": null,
   "metadata": {
    "collapsed": false
   },
   "outputs": [],
   "source": [
    "#Replacing the number with the name\n",
    "pol_names = list(df_name.iloc[[1]])"
   ]
  },
  {
   "cell_type": "code",
   "execution_count": null,
   "metadata": {
    "collapsed": false
   },
   "outputs": [],
   "source": [
    "#pulling out first section\n",
    "df_first_11 = df.iloc[:, :11]"
   ]
  },
  {
   "cell_type": "code",
   "execution_count": null,
   "metadata": {
    "collapsed": false
   },
   "outputs": [],
   "source": [
    "#Renaming the politician columns from numbers to names\n",
    "df_politicians = df.iloc[:, 11:]\n",
    "df_politicians.columns = pol_names\n",
    "df_politicians = df_politicians.iloc[:, :-7]"
   ]
  },
  {
   "cell_type": "code",
   "execution_count": null,
   "metadata": {
    "collapsed": false
   },
   "outputs": [],
   "source": [
    "#results\n",
    "df_result = df.iloc[:, -7:]"
   ]
  },
  {
   "cell_type": "code",
   "execution_count": null,
   "metadata": {
    "collapsed": false
   },
   "outputs": [],
   "source": [
    "#Recreating the file\n",
    "df_molded = pd.concat([df_first_11, df_politicians, df_result], axis=1, join_axes=[df_first_11.index])"
   ]
  },
  {
   "cell_type": "markdown",
   "metadata": {},
   "source": [
    "# Working out who has best rating"
   ]
  },
  {
   "cell_type": "code",
   "execution_count": null,
   "metadata": {
    "collapsed": false
   },
   "outputs": [],
   "source": [
    "#function to translate Decision to German\n",
    "def translate(x):\n",
    "    if x == 'Yes':\n",
    "        return 'Ja'\n",
    "    else:\n",
    "        return 'Nein'"
   ]
  },
  {
   "cell_type": "code",
   "execution_count": null,
   "metadata": {
    "collapsed": true
   },
   "outputs": [],
   "source": [
    "df_molded['Decision'] = df_molded['Decision'].apply(translate)"
   ]
  },
  {
   "cell_type": "code",
   "execution_count": null,
   "metadata": {
    "collapsed": false
   },
   "outputs": [],
   "source": [
    "#Checking on politician\n",
    "Zuberbühler_david = list(df_molded['Zuberbühler David'])"
   ]
  },
  {
   "cell_type": "code",
   "execution_count": null,
   "metadata": {
    "collapsed": true
   },
   "outputs": [],
   "source": [
    "decision_list = list(df_molded['Decision'])"
   ]
  },
  {
   "cell_type": "code",
   "execution_count": null,
   "metadata": {
    "collapsed": false
   },
   "outputs": [],
   "source": [
    "count = 0\n",
    "for x, y in zip(Zuberbühler_david, decision_list):\n",
    "    if x == y:\n",
    "        count = count + 1"
   ]
  },
  {
   "cell_type": "code",
   "execution_count": null,
   "metadata": {
    "collapsed": true
   },
   "outputs": [],
   "source": [
    "#Creating second list only with last name\n",
    "last_pol_names = []\n",
    "for last_name in pol_names:\n",
    "    last_name = last_name.split(' ')\n",
    "    last_name = last_name[0]\n",
    "    last_pol_names.append(last_name)"
   ]
  },
  {
   "cell_type": "code",
   "execution_count": null,
   "metadata": {
    "collapsed": false
   },
   "outputs": [],
   "source": [
    "last_pol_names.pop(0)"
   ]
  },
  {
   "cell_type": "code",
   "execution_count": null,
   "metadata": {
    "collapsed": false
   },
   "outputs": [],
   "source": [
    "pol_names.pop(0)"
   ]
  },
  {
   "cell_type": "code",
   "execution_count": null,
   "metadata": {
    "collapsed": true
   },
   "outputs": [],
   "source": [
    "pol_names = pol_names[:-7]"
   ]
  },
  {
   "cell_type": "code",
   "execution_count": null,
   "metadata": {
    "collapsed": false
   },
   "outputs": [],
   "source": [
    "#Iterating through the two lists to work out values of them all\n",
    "decision_list = list(df_molded['Decision'])\n",
    "pol_decision_count = []\n",
    "\n",
    "for name, last_name in zip(pol_names, last_pol_names):\n",
    "    #print(name, last_name)\n",
    "    count = 0\n",
    "    #print(count)\n",
    "    try:\n",
    "        last_name = list(df_molded[name])\n",
    "    except:\n",
    "        'KeyError'\n",
    "    #print(last_name)\n",
    "    try:\n",
    "        for x, y in zip(last_name, decision_list):\n",
    "            if x == y:\n",
    "                count = count + 1\n",
    "            \n",
    "            pol_decisions = {'Name': name,\n",
    "                        'Mit Mehrheit': count}\n",
    "        pol_decision_count.append(pol_decisions)\n",
    "    except:\n",
    "        'KeyError'\n",
    "    #print(pol_decision_count)"
   ]
  },
  {
   "cell_type": "code",
   "execution_count": null,
   "metadata": {
    "collapsed": false
   },
   "outputs": [],
   "source": [
    "#Making DF\n",
    "df_count = pd.DataFrame(pol_decision_count)"
   ]
  },
  {
   "cell_type": "code",
   "execution_count": null,
   "metadata": {
    "collapsed": false
   },
   "outputs": [],
   "source": [
    "#Top 5\n",
    "df_count.sort_values(by='Mit Mehrheit', ascending=False).head()"
   ]
  },
  {
   "cell_type": "code",
   "execution_count": null,
   "metadata": {
    "collapsed": false
   },
   "outputs": [],
   "source": [
    "#Bottom 5\n",
    "df_count.sort_values(by='Mit Mehrheit', ascending=True).head()"
   ]
  },
  {
   "cell_type": "code",
   "execution_count": null,
   "metadata": {
    "collapsed": true
   },
   "outputs": [],
   "source": [
    "df_count.to_csv('Mit_der_Mehrheit_Herbstsession_2016.csv')"
   ]
  },
  {
   "cell_type": "code",
   "execution_count": null,
   "metadata": {
    "collapsed": true
   },
   "outputs": [],
   "source": []
  }
 ],
 "metadata": {
  "kernelspec": {
   "display_name": "Python 3",
   "language": "python",
   "name": "python3"
  },
  "language_info": {
   "codemirror_mode": {
    "name": "ipython",
    "version": 3
   },
   "file_extension": ".py",
   "mimetype": "text/x-python",
   "name": "python",
   "nbconvert_exporter": "python",
   "pygments_lexer": "ipython3",
   "version": "3.5.1"
  }
 },
 "nbformat": 4,
 "nbformat_minor": 0
}
