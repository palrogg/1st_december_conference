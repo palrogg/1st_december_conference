{
 "cells": [
  {
   "cell_type": "markdown",
   "metadata": {},
   "source": [
    "# Genève vu par Wikipédia"
   ]
  },
  {
   "cell_type": "code",
   "execution_count": 1,
   "metadata": {
    "collapsed": true
   },
   "outputs": [],
   "source": [
    "import requests, json, random, re, pandas as pd, time\n",
    "from IPython.core.display import display, HTML"
   ]
  },
  {
   "cell_type": "code",
   "execution_count": 2,
   "metadata": {
    "collapsed": true
   },
   "outputs": [],
   "source": [
    "def query(request, limit):\n",
    "    request['action'] = 'query'\n",
    "    request['format'] = 'json'\n",
    "    lastContinue = {'continue': ''}\n",
    "    counter = 0\n",
    "    while True:\n",
    "        counter += 1\n",
    "        if counter > limit:\n",
    "            break\n",
    "        # Clone original request\n",
    "        req = request.copy()\n",
    "        # Modify it with the values returned in the 'continue' section of the last result.\n",
    "        req.update(lastContinue)\n",
    "        # Call API\n",
    "        result = requests.get('http://en.wikipedia.org/w/api.php', params=req).json()\n",
    "        if 'error' in result:\n",
    "            raise Error(result['error'])\n",
    "        if 'warnings' in result:\n",
    "            print(result['warnings'])\n",
    "        if 'query' in result:\n",
    "            yield result['query']\n",
    "        if 'continue' not in result:\n",
    "            break\n",
    "        lastContinue = result['continue']"
   ]
  },
  {
   "cell_type": "code",
   "execution_count": 3,
   "metadata": {
    "collapsed": false
   },
   "outputs": [
    {
     "name": "stdout",
     "output_type": "stream",
     "text": [
      "Got a new result\n",
      "Got a new result\n",
      "Got a new result\n"
     ]
    }
   ],
   "source": [
    "result_list = []\n",
    "\n",
    "for result in query({'list':'search','srsearch': 'Genève', 'srwhat':'text'}, 3):\n",
    "    print('Got a new result')\n",
    "    result_list.extend(result['search'])"
   ]
  },
  {
   "cell_type": "code",
   "execution_count": 4,
   "metadata": {
    "collapsed": false
   },
   "outputs": [
    {
     "data": {
      "text/html": [
       "<div>\n",
       "<table border=\"1\" class=\"dataframe\">\n",
       "  <thead>\n",
       "    <tr style=\"text-align: right;\">\n",
       "      <th></th>\n",
       "      <th>ns</th>\n",
       "      <th>size</th>\n",
       "      <th>snippet</th>\n",
       "      <th>timestamp</th>\n",
       "      <th>title</th>\n",
       "      <th>wordcount</th>\n",
       "    </tr>\n",
       "  </thead>\n",
       "  <tbody>\n",
       "    <tr>\n",
       "      <th>0</th>\n",
       "      <td>0</td>\n",
       "      <td>100443</td>\n",
       "      <td>industriels, Archives d'État de &lt;span class=\"s...</td>\n",
       "      <td>2016-11-14T05:47:15Z</td>\n",
       "      <td>Geneva</td>\n",
       "      <td>10419</td>\n",
       "    </tr>\n",
       "    <tr>\n",
       "      <th>1</th>\n",
       "      <td>0</td>\n",
       "      <td>5033</td>\n",
       "      <td>&amp;quot;Le Stade de &lt;span class=\"searchmatch\"&gt;Ge...</td>\n",
       "      <td>2016-11-26T15:11:48Z</td>\n",
       "      <td>Stade de Genève</td>\n",
       "      <td>366</td>\n",
       "    </tr>\n",
       "    <tr>\n",
       "      <th>2</th>\n",
       "      <td>0</td>\n",
       "      <td>4930</td>\n",
       "      <td>Sports.   Originally founded as the &lt;span clas...</td>\n",
       "      <td>2016-05-29T23:45:52Z</td>\n",
       "      <td>Lions de Genève</td>\n",
       "      <td>220</td>\n",
       "    </tr>\n",
       "    <tr>\n",
       "      <th>3</th>\n",
       "      <td>0</td>\n",
       "      <td>8475</td>\n",
       "      <td>Vernets. 1963 : Creation of &lt;span class=\"searc...</td>\n",
       "      <td>2016-10-26T12:07:18Z</td>\n",
       "      <td>Genève-Servette HC</td>\n",
       "      <td>868</td>\n",
       "    </tr>\n",
       "    <tr>\n",
       "      <th>4</th>\n",
       "      <td>0</td>\n",
       "      <td>2465</td>\n",
       "      <td>Banque cantonale de &lt;span class=\"searchmatch\"&gt;...</td>\n",
       "      <td>2016-10-25T11:12:48Z</td>\n",
       "      <td>Banque cantonale de Genève</td>\n",
       "      <td>157</td>\n",
       "    </tr>\n",
       "  </tbody>\n",
       "</table>\n",
       "</div>"
      ],
      "text/plain": [
       "   ns    size                                            snippet  \\\n",
       "0   0  100443  industriels, Archives d'État de <span class=\"s...   \n",
       "1   0    5033  &quot;Le Stade de <span class=\"searchmatch\">Ge...   \n",
       "2   0    4930  Sports.   Originally founded as the <span clas...   \n",
       "3   0    8475  Vernets. 1963 : Creation of <span class=\"searc...   \n",
       "4   0    2465  Banque cantonale de <span class=\"searchmatch\">...   \n",
       "\n",
       "              timestamp                       title  wordcount  \n",
       "0  2016-11-14T05:47:15Z                      Geneva      10419  \n",
       "1  2016-11-26T15:11:48Z             Stade de Genève        366  \n",
       "2  2016-05-29T23:45:52Z             Lions de Genève        220  \n",
       "3  2016-10-26T12:07:18Z          Genève-Servette HC        868  \n",
       "4  2016-10-25T11:12:48Z  Banque cantonale de Genève        157  "
      ]
     },
     "execution_count": 4,
     "metadata": {},
     "output_type": "execute_result"
    }
   ],
   "source": [
    "df = pd.DataFrame(result_list)\n",
    "df.head()"
   ]
  },
  {
   "cell_type": "code",
   "execution_count": 5,
   "metadata": {
    "collapsed": false
   },
   "outputs": [
    {
     "data": {
      "text/plain": [
       "'November 2016'"
      ]
     },
     "execution_count": 5,
     "metadata": {},
     "output_type": "execute_result"
    }
   ],
   "source": [
    "time.strftime('%B %Y', time.strptime(\"2016-11-28\", '%Y-%m-%d'))"
   ]
  },
  {
   "cell_type": "code",
   "execution_count": 6,
   "metadata": {
    "collapsed": true
   },
   "outputs": [],
   "source": [
    "def get_day(timestamp):\n",
    "    #return time.strftime('%A, %B %d', time.strptime(timestamp.split('T')[0], '%Y-%m-%d'))\n",
    "    return time.strftime('%B %Y', time.strptime(timestamp.split('T')[0], '%Y-%m-%d'))"
   ]
  },
  {
   "cell_type": "code",
   "execution_count": 7,
   "metadata": {
    "collapsed": false
   },
   "outputs": [],
   "source": [
    "df['date'] = df['timestamp'].apply(get_day)"
   ]
  },
  {
   "cell_type": "code",
   "execution_count": 8,
   "metadata": {
    "collapsed": false
   },
   "outputs": [
    {
     "data": {
      "text/plain": [
       "November 2016     8\n",
       "September 2016    5\n",
       "October 2016      5\n",
       "March 2016        2\n",
       "July 2016         2\n",
       "April 2016        1\n",
       "November 2014     1\n",
       "September 2015    1\n",
       "June 2015         1\n",
       "February 2016     1\n",
       "January 2016      1\n",
       "August 2013       1\n",
       "May 2016          1\n",
       "Name: date, dtype: int64"
      ]
     },
     "execution_count": 8,
     "metadata": {},
     "output_type": "execute_result"
    }
   ],
   "source": [
    "df['date'].value_counts()"
   ]
  },
  {
   "cell_type": "code",
   "execution_count": 9,
   "metadata": {
    "collapsed": false
   },
   "outputs": [
    {
     "data": {
      "text/plain": [
       "[{'name': 'April 2016', 'words': ['École Japonaise Complémentaire de Genève']},\n",
       " {'name': 'August 2013', 'words': ['Geneva University of Music']},\n",
       " {'name': 'February 2016', 'words': [\"Musée d'ethnographie de Genève\"]},\n",
       " {'name': 'January 2016', 'words': ['Orchestre de chambre de Genève']},\n",
       " {'name': 'July 2016',\n",
       "  'words': ['Genève-Cornavin railway station', 'Trolleybuses in Geneva']},\n",
       " {'name': 'June 2015', 'words': ['Gli Angeli Genève']},\n",
       " {'name': 'March 2016',\n",
       "  'words': ['Urania Genève Sport', 'Racing Club Genève']},\n",
       " {'name': 'May 2016', 'words': ['Lions de Genève']},\n",
       " {'name': 'November 2014', 'words': ['Conservatoire de Musique de Genève']},\n",
       " {'name': 'November 2016',\n",
       "  'words': ['Geneva',\n",
       "   'Stade de Genève',\n",
       "   'Universal Genève',\n",
       "   'Fêtes de Genève',\n",
       "   'Centre d’Art Contemporain Genève',\n",
       "   'Servette FC',\n",
       "   'Collège Calvin',\n",
       "   'Canton of Geneva']},\n",
       " {'name': 'October 2016',\n",
       "  'words': ['Genève-Servette HC',\n",
       "   'Banque cantonale de Genève',\n",
       "   'Paddle steamer Genève',\n",
       "   'Genève RHC',\n",
       "   'À gauche toute! Genève']},\n",
       " {'name': 'September 2015', 'words': ['Grand Théâtre de Genève']},\n",
       " {'name': 'September 2016',\n",
       "  'words': ['Tribune de Genève',\n",
       "   'Société Nautique de Genève',\n",
       "   'Fédération des Entreprises Romandes Genève',\n",
       "   'Bibliothèque Publique et Universitaire (Geneva)',\n",
       "   'Natural History Museum of Geneva']}]"
      ]
     },
     "execution_count": 9,
     "metadata": {},
     "output_type": "execute_result"
    }
   ],
   "source": [
    "json_list = []\n",
    "for date, group in df.groupby('date'):\n",
    "    titles = []\n",
    "    for index, row in group.iterrows():\n",
    "        titles.append(row['title'])\n",
    "    json_list.append({'name':date, 'words':titles})\n",
    "json_list"
   ]
  },
  {
   "cell_type": "code",
   "execution_count": 10,
   "metadata": {
    "collapsed": false
   },
   "outputs": [],
   "source": [
    "df.to_csv('wikipedia_geneva_dates.csv')"
   ]
  },
  {
   "cell_type": "code",
   "execution_count": 11,
   "metadata": {
    "collapsed": false
   },
   "outputs": [],
   "source": [
    "data = []    \n",
    "\n",
    "## return an array with the other nodes to connect to\n",
    "def import_words(word_list):\n",
    "    lines = []\n",
    "    for word in word_list:\n",
    "        lines.append('Title.' + word)\n",
    "    return lines\n",
    "\n",
    "def import_authors(author_list):\n",
    "    lines = []\n",
    "    for author in author_list:\n",
    "        lines.append('Author.' + author)\n",
    "    return lines\n",
    "\n",
    "## create the node data\n",
    "def generate_word(word, deputee):\n",
    "    timports = []\n",
    "    timports.extend(import_authors(deputee))\n",
    "    \n",
    "    element = {\n",
    "        \"name\": \"Title.\" + word,\n",
    "        \"size\": 0,\n",
    "        \"imports\": import_authors(deputee)\n",
    "    }\n",
    "    return element\n",
    "\n",
    "def generate_author(deputee, words):\n",
    "    element = {\n",
    "        \"name\": \"Author.\" + deputee,\n",
    "        \"size\": 0,\n",
    "        \"imports\": import_words(words)\n",
    "    }\n",
    "    return element\n",
    "\n",
    "for item in json_list:\n",
    "    deputee_name = item['name']\n",
    "\n",
    "    for single_word in item['words']:\n",
    "        data.append(generate_word(single_word, [deputee_name]))\n",
    "\n",
    "    deputee = generate_author(deputee_name, item['words'])\n",
    "    data.append(deputee)\n",
    "\n",
    "## export\n",
    "with open('wiki_titles.json', 'w') as outfile:\n",
    "    json.dump(data, outfile, indent=4, separators=(',', ': '))"
   ]
  },
  {
   "cell_type": "code",
   "execution_count": 12,
   "metadata": {
    "collapsed": false
   },
   "outputs": [
    {
     "data": {
      "text/html": [
       "<iframe src=\"http://rospo.local/~paul/Wiki_dataviz/dataviz.html\" width=\"900\" height=\"900\"></iframe>"
      ],
      "text/plain": [
       "<IPython.core.display.HTML object>"
      ]
     },
     "metadata": {},
     "output_type": "display_data"
    }
   ],
   "source": [
    "display(HTML('<iframe src=\"http://rospo.local/~paul/Wiki_dataviz/dataviz.html\" width=\"900\" height=\"900\"></iframe>'))"
   ]
  },
  {
   "cell_type": "code",
   "execution_count": 14,
   "metadata": {
    "collapsed": true
   },
   "outputs": [],
   "source": [
    "!open ."
   ]
  }
 ],
 "metadata": {
  "kernelspec": {
   "display_name": "Python 3",
   "language": "python",
   "name": "python3"
  },
  "language_info": {
   "codemirror_mode": {
    "name": "ipython",
    "version": 3
   },
   "file_extension": ".py",
   "mimetype": "text/x-python",
   "name": "python",
   "nbconvert_exporter": "python",
   "pygments_lexer": "ipython3",
   "version": "3.5.1"
  },
  "widgets": {
   "state": {},
   "version": "1.1.2"
  }
 },
 "nbformat": 4,
 "nbformat_minor": 0
}
