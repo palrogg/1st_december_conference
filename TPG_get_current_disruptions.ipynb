{
 "cells": [
  {
   "cell_type": "markdown",
   "metadata": {},
   "source": [
    "# Getting data using an API\n",
    "\n",
    "Transports publics de Genève (public transportation in Geneva)"
   ]
  },
  {
   "cell_type": "code",
   "execution_count": 1,
   "metadata": {
    "collapsed": true
   },
   "outputs": [],
   "source": [
    "import requests\n",
    "import pandas as pd\n",
    "import configparser\n",
    "import time"
   ]
  },
  {
   "cell_type": "code",
   "execution_count": 2,
   "metadata": {
    "collapsed": true
   },
   "outputs": [],
   "source": [
    "config = configparser.ConfigParser()"
   ]
  },
  {
   "cell_type": "markdown",
   "metadata": {},
   "source": [
    "### Example config:\n",
    "```config['tpg.ch'] = {}\n",
    "config['tpg.ch']['key'] = 'Zapata_yaboom!'\n",
    "with open('tpg.ini', 'w') as configfile:\n",
    "    config.write(configfile)```"
   ]
  },
  {
   "cell_type": "code",
   "execution_count": 7,
   "metadata": {
    "collapsed": false
   },
   "outputs": [],
   "source": [
    "config.read('tpg.ini')\n",
    "key = config['tpg.ch']['key']"
   ]
  },
  {
   "cell_type": "markdown",
   "metadata": {},
   "source": [
    "# We get the current disruptions"
   ]
  },
  {
   "cell_type": "code",
   "execution_count": 10,
   "metadata": {
    "collapsed": true
   },
   "outputs": [],
   "source": [
    "getDisruptions = 'http://prod.ivtr-od.tpg.ch/v1/GetDisruptions?key={}'\n",
    "responseDis = requests.get(getDisruptions.format(key))\n",
    "dataDis = responseDis.json()"
   ]
  },
  {
   "cell_type": "markdown",
   "metadata": {},
   "source": [
    "# Let's store it in a dataframe"
   ]
  },
  {
   "cell_type": "code",
   "execution_count": 11,
   "metadata": {
    "collapsed": false
   },
   "outputs": [],
   "source": [
    "df = pd.DataFrame(dataDis['disruptions'])"
   ]
  },
  {
   "cell_type": "code",
   "execution_count": 12,
   "metadata": {
    "collapsed": true
   },
   "outputs": [],
   "source": [
    "def add_warning(nature_label):\n",
    "    if nature_label[:7] != 'Travaux' and nature_label[:10] != 'Rénovation':\n",
    "        return 1\n",
    "    else:\n",
    "        return 0"
   ]
  },
  {
   "cell_type": "code",
   "execution_count": 13,
   "metadata": {
    "collapsed": false
   },
   "outputs": [],
   "source": [
    "df['warning'] = df['nature'].apply(add_warning)"
   ]
  },
  {
   "cell_type": "code",
   "execution_count": 14,
   "metadata": {
    "collapsed": false
   },
   "outputs": [
    {
     "data": {
      "text/html": [
       "<div>\n",
       "<table border=\"1\" class=\"dataframe\">\n",
       "  <thead>\n",
       "    <tr style=\"text-align: right;\">\n",
       "      <th></th>\n",
       "      <th>consequence</th>\n",
       "      <th>lineCode</th>\n",
       "      <th>nature</th>\n",
       "      <th>place</th>\n",
       "      <th>timestamp</th>\n",
       "      <th>warning</th>\n",
       "    </tr>\n",
       "  </thead>\n",
       "  <tbody>\n",
       "    <tr>\n",
       "      <th>0</th>\n",
       "      <td>Dès le 30 septembre et pour une durée de 6 moi...</td>\n",
       "      <td>1</td>\n",
       "      <td>Travaux route de Frontenex</td>\n",
       "      <td>Uniquement direction Gradelle</td>\n",
       "      <td>2016-11-28T04:13:00+0100</td>\n",
       "      <td>0</td>\n",
       "    </tr>\n",
       "    <tr>\n",
       "      <th>1</th>\n",
       "      <td>Ligne détournée entre les arrêts Motta et Corn...</td>\n",
       "      <td>8</td>\n",
       "      <td>Travaux rue de Vermont</td>\n",
       "      <td>Direction Veyrier Douane / Tournettes</td>\n",
       "      <td>2016-11-28T04:10:00+0100</td>\n",
       "      <td>0</td>\n",
       "    </tr>\n",
       "    <tr>\n",
       "      <th>2</th>\n",
       "      <td>Dès le 30 septembre et pour une durée de 6 moi...</td>\n",
       "      <td>9</td>\n",
       "      <td>Travaux route de Frontenex</td>\n",
       "      <td>Uniquement direction Gradelle</td>\n",
       "      <td>2016-11-28T04:13:00+0100</td>\n",
       "      <td>0</td>\n",
       "    </tr>\n",
       "    <tr>\n",
       "      <th>3</th>\n",
       "      <td>Ligne détournée entre les arrêts Petit Bel-Air...</td>\n",
       "      <td>31</td>\n",
       "      <td>Travaux</td>\n",
       "      <td>Dans les deux sens</td>\n",
       "      <td>2016-11-28T07:51:00+0100</td>\n",
       "      <td>0</td>\n",
       "    </tr>\n",
       "    <tr>\n",
       "      <th>4</th>\n",
       "      <td>Dès le 30 septembre et pour une durée de 6 moi...</td>\n",
       "      <td>33</td>\n",
       "      <td>Travaux route de Frontenex</td>\n",
       "      <td>Uniquement direction Gradelle</td>\n",
       "      <td>2016-11-28T04:13:00+0100</td>\n",
       "      <td>0</td>\n",
       "    </tr>\n",
       "    <tr>\n",
       "      <th>5</th>\n",
       "      <td>Ligne détournée entre les arrêts Annemasse-Pos...</td>\n",
       "      <td>61</td>\n",
       "      <td>Travaux centre ville d'Annemasse</td>\n",
       "      <td>Direction Gare Cornavin</td>\n",
       "      <td>2016-11-28T04:12:00+0100</td>\n",
       "      <td>0</td>\n",
       "    </tr>\n",
       "    <tr>\n",
       "      <th>6</th>\n",
       "      <td>Dès le 30 septembre et pour une durée de 6 moi...</td>\n",
       "      <td>A</td>\n",
       "      <td>Travaux route de Frontenex</td>\n",
       "      <td>Uniquement direction Gradelle</td>\n",
       "      <td>2016-11-28T04:13:00+0100</td>\n",
       "      <td>0</td>\n",
       "    </tr>\n",
       "    <tr>\n",
       "      <th>7</th>\n",
       "      <td>Dès le 30 septembre et pour une durée de 6 moi...</td>\n",
       "      <td>NP</td>\n",
       "      <td>Travaux route de Frontenex</td>\n",
       "      <td>Uniquement direction Gradelle</td>\n",
       "      <td>2016-11-28T04:13:00+0100</td>\n",
       "      <td>0</td>\n",
       "    </tr>\n",
       "  </tbody>\n",
       "</table>\n",
       "</div>"
      ],
      "text/plain": [
       "                                         consequence lineCode  \\\n",
       "0  Dès le 30 septembre et pour une durée de 6 moi...        1   \n",
       "1  Ligne détournée entre les arrêts Motta et Corn...        8   \n",
       "2  Dès le 30 septembre et pour une durée de 6 moi...        9   \n",
       "3  Ligne détournée entre les arrêts Petit Bel-Air...       31   \n",
       "4  Dès le 30 septembre et pour une durée de 6 moi...       33   \n",
       "5  Ligne détournée entre les arrêts Annemasse-Pos...       61   \n",
       "6  Dès le 30 septembre et pour une durée de 6 moi...        A   \n",
       "7  Dès le 30 septembre et pour une durée de 6 moi...       NP   \n",
       "\n",
       "                             nature                                  place  \\\n",
       "0        Travaux route de Frontenex          Uniquement direction Gradelle   \n",
       "1            Travaux rue de Vermont  Direction Veyrier Douane / Tournettes   \n",
       "2        Travaux route de Frontenex          Uniquement direction Gradelle   \n",
       "3                           Travaux                     Dans les deux sens   \n",
       "4        Travaux route de Frontenex          Uniquement direction Gradelle   \n",
       "5  Travaux centre ville d'Annemasse                Direction Gare Cornavin   \n",
       "6        Travaux route de Frontenex          Uniquement direction Gradelle   \n",
       "7        Travaux route de Frontenex          Uniquement direction Gradelle   \n",
       "\n",
       "                  timestamp  warning  \n",
       "0  2016-11-28T04:13:00+0100        0  \n",
       "1  2016-11-28T04:10:00+0100        0  \n",
       "2  2016-11-28T04:13:00+0100        0  \n",
       "3  2016-11-28T07:51:00+0100        0  \n",
       "4  2016-11-28T04:13:00+0100        0  \n",
       "5  2016-11-28T04:12:00+0100        0  \n",
       "6  2016-11-28T04:13:00+0100        0  \n",
       "7  2016-11-28T04:13:00+0100        0  "
      ]
     },
     "execution_count": 14,
     "metadata": {},
     "output_type": "execute_result"
    }
   ],
   "source": [
    "df"
   ]
  },
  {
   "cell_type": "code",
   "execution_count": 15,
   "metadata": {
    "collapsed": true
   },
   "outputs": [],
   "source": [
    "datestring = time.strftime(\"%Y-%m-%d_%Hh%m\")"
   ]
  },
  {
   "cell_type": "code",
   "execution_count": 16,
   "metadata": {
    "collapsed": true
   },
   "outputs": [],
   "source": [
    "df.to_csv(\"disruptions_{}.csv\".format(datestring), index=False)"
   ]
  },
  {
   "cell_type": "code",
   "execution_count": 17,
   "metadata": {
    "collapsed": true
   },
   "outputs": [],
   "source": [
    "!open ."
   ]
  },
  {
   "cell_type": "code",
   "execution_count": null,
   "metadata": {
    "collapsed": true
   },
   "outputs": [],
   "source": []
  }
 ],
 "metadata": {
  "kernelspec": {
   "display_name": "Python 3",
   "language": "python",
   "name": "python3"
  },
  "language_info": {
   "codemirror_mode": {
    "name": "ipython",
    "version": 3
   },
   "file_extension": ".py",
   "mimetype": "text/x-python",
   "name": "python",
   "nbconvert_exporter": "python",
   "pygments_lexer": "ipython3",
   "version": "3.5.1"
  },
  "widgets": {
   "state": {},
   "version": "1.1.2"
  }
 },
 "nbformat": 4,
 "nbformat_minor": 0
}
