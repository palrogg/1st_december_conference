{
 "cells": [
  {
   "cell_type": "markdown",
   "metadata": {},
   "source": [
    "# Getting data using an API\n",
    "\n",
    "Transports publics de Genève (public transportation in Geneva)"
   ]
  },
  {
   "cell_type": "code",
   "execution_count": 1,
   "metadata": {
    "collapsed": false
   },
   "outputs": [],
   "source": [
    "import requests\n",
    "import pandas as pd\n",
    "import configparser\n",
    "import time"
   ]
  },
  {
   "cell_type": "code",
   "execution_count": 2,
   "metadata": {
    "collapsed": false
   },
   "outputs": [],
   "source": [
    "config = configparser.ConfigParser()"
   ]
  },
  {
   "cell_type": "markdown",
   "metadata": {},
   "source": [
    "### Example config:\n",
    "```config['tpg.ch'] = {}\n",
    "config['tpg.ch']['key'] = 'Zapata_yaboom!'\n",
    "with open('tpg.ini', 'w') as configfile:\n",
    "    config.write(configfile)```"
   ]
  },
  {
   "cell_type": "code",
   "execution_count": 4,
   "metadata": {
    "collapsed": false
   },
   "outputs": [],
   "source": [
    "config.read('tpg.ini')\n",
    "key = config['tpg.ch']['key']"
   ]
  },
  {
   "cell_type": "markdown",
   "metadata": {},
   "source": [
    "# We get the current disruptions"
   ]
  },
  {
   "cell_type": "code",
   "execution_count": 5,
   "metadata": {
    "collapsed": true
   },
   "outputs": [],
   "source": [
    "getDisruptions = 'http://prod.ivtr-od.tpg.ch/v1/GetDisruptions?key={}'\n",
    "responseDis = requests.get(getDisruptions.format(key))\n",
    "dataDis = responseDis.json()"
   ]
  },
  {
   "cell_type": "markdown",
   "metadata": {},
   "source": [
    "# Let's store it in a dataframe"
   ]
  },
  {
   "cell_type": "code",
   "execution_count": 11,
   "metadata": {
    "collapsed": false
   },
   "outputs": [],
   "source": [
    "df = pd.DataFrame(dataDis['disruptions'])"
   ]
  },
  {
   "cell_type": "code",
   "execution_count": 12,
   "metadata": {
    "collapsed": true
   },
   "outputs": [],
   "source": [
    "def add_warning(nature_label):\n",
    "    if nature_label[:7] != 'Travaux' and nature_label[:10] != 'Rénovation':\n",
    "        return 1\n",
    "    else:\n",
    "        return 0"
   ]
  },
  {
   "cell_type": "code",
   "execution_count": 13,
   "metadata": {
    "collapsed": false
   },
   "outputs": [],
   "source": [
    "df['warning'] = df['nature'].apply(add_warning)"
   ]
  },
  {
   "cell_type": "code",
   "execution_count": 14,
   "metadata": {
    "collapsed": false
   },
   "outputs": [
    {
     "data": {
      "text/html": [
       "<div>\n",
       "<table border=\"1\" class=\"dataframe\">\n",
       "  <thead>\n",
       "    <tr style=\"text-align: right;\">\n",
       "      <th></th>\n",
       "      <th>consequence</th>\n",
       "      <th>lineCode</th>\n",
       "      <th>nature</th>\n",
       "      <th>place</th>\n",
       "      <th>timestamp</th>\n",
       "      <th>warning</th>\n",
       "    </tr>\n",
       "  </thead>\n",
       "  <tbody>\n",
       "    <tr>\n",
       "      <th>0</th>\n",
       "      <td>Dès le 30 septembre et pour une durée de 6 moi...</td>\n",
       "      <td>1</td>\n",
       "      <td>Travaux route de Frontenex</td>\n",
       "      <td>Uniquement direction Gradelle</td>\n",
       "      <td>2016-11-28T04:13:00+0100</td>\n",
       "      <td>0</td>\n",
       "    </tr>\n",
       "    <tr>\n",
       "      <th>1</th>\n",
       "      <td>Ligne détournée entre les arrêts Motta et Corn...</td>\n",
       "      <td>8</td>\n",
       "      <td>Travaux rue de Vermont</td>\n",
       "      <td>Direction Veyrier Douane / Tournettes</td>\n",
       "      <td>2016-11-28T04:10:00+0100</td>\n",
       "      <td>0</td>\n",
       "    </tr>\n",
       "    <tr>\n",
       "      <th>2</th>\n",
       "      <td>Dès le 30 septembre et pour une durée de 6 moi...</td>\n",
       "      <td>9</td>\n",
       "      <td>Travaux route de Frontenex</td>\n",
       "      <td>Uniquement direction Gradelle</td>\n",
       "      <td>2016-11-28T04:13:00+0100</td>\n",
       "      <td>0</td>\n",
       "    </tr>\n",
       "    <tr>\n",
       "      <th>3</th>\n",
       "      <td>Ligne détournée entre les arrêts Petit Bel-Air...</td>\n",
       "      <td>31</td>\n",
       "      <td>Travaux</td>\n",
       "      <td>Dans les deux sens</td>\n",
       "      <td>2016-11-28T07:51:00+0100</td>\n",
       "      <td>0</td>\n",
       "    </tr>\n",
       "    <tr>\n",
       "      <th>4</th>\n",
       "      <td>Dès le 30 septembre et pour une durée de 6 moi...</td>\n",
       "      <td>33</td>\n",
       "      <td>Travaux route de Frontenex</td>\n",
       "      <td>Uniquement direction Gradelle</td>\n",
       "      <td>2016-11-28T04:13:00+0100</td>\n",
       "      <td>0</td>\n",
       "    </tr>\n",
       "    <tr>\n",
       "      <th>5</th>\n",
       "      <td>Ligne détournée entre les arrêts Annemasse-Pos...</td>\n",
       "      <td>61</td>\n",
       "      <td>Travaux centre ville d'Annemasse</td>\n",
       "      <td>Direction Gare Cornavin</td>\n",
       "      <td>2016-11-28T04:12:00+0100</td>\n",
       "      <td>0</td>\n",
       "    </tr>\n",
       "    <tr>\n",
       "      <th>6</th>\n",
       "      <td>Dès le 30 septembre et pour une durée de 6 moi...</td>\n",
       "      <td>A</td>\n",
       "      <td>Travaux route de Frontenex</td>\n",
       "      <td>Uniquement direction Gradelle</td>\n",
       "      <td>2016-11-28T04:13:00+0100</td>\n",
       "      <td>0</td>\n",
       "    </tr>\n",
       "    <tr>\n",
       "      <th>7</th>\n",
       "      <td>Dès le 30 septembre et pour une durée de 6 moi...</td>\n",
       "      <td>NP</td>\n",
       "      <td>Travaux route de Frontenex</td>\n",
       "      <td>Uniquement direction Gradelle</td>\n",
       "      <td>2016-11-28T04:13:00+0100</td>\n",
       "      <td>0</td>\n",
       "    </tr>\n",
       "  </tbody>\n",
       "</table>\n",
       "</div>"
      ],
      "text/plain": [
       "                                         consequence lineCode  \\\n",
       "0  Dès le 30 septembre et pour une durée de 6 moi...        1   \n",
       "1  Ligne détournée entre les arrêts Motta et Corn...        8   \n",
       "2  Dès le 30 septembre et pour une durée de 6 moi...        9   \n",
       "3  Ligne détournée entre les arrêts Petit Bel-Air...       31   \n",
       "4  Dès le 30 septembre et pour une durée de 6 moi...       33   \n",
       "5  Ligne détournée entre les arrêts Annemasse-Pos...       61   \n",
       "6  Dès le 30 septembre et pour une durée de 6 moi...        A   \n",
       "7  Dès le 30 septembre et pour une durée de 6 moi...       NP   \n",
       "\n",
       "                             nature                                  place  \\\n",
       "0        Travaux route de Frontenex          Uniquement direction Gradelle   \n",
       "1            Travaux rue de Vermont  Direction Veyrier Douane / Tournettes   \n",
       "2        Travaux route de Frontenex          Uniquement direction Gradelle   \n",
       "3                           Travaux                     Dans les deux sens   \n",
       "4        Travaux route de Frontenex          Uniquement direction Gradelle   \n",
       "5  Travaux centre ville d'Annemasse                Direction Gare Cornavin   \n",
       "6        Travaux route de Frontenex          Uniquement direction Gradelle   \n",
       "7        Travaux route de Frontenex          Uniquement direction Gradelle   \n",
       "\n",
       "                  timestamp  warning  \n",
       "0  2016-11-28T04:13:00+0100        0  \n",
       "1  2016-11-28T04:10:00+0100        0  \n",
       "2  2016-11-28T04:13:00+0100        0  \n",
       "3  2016-11-28T07:51:00+0100        0  \n",
       "4  2016-11-28T04:13:00+0100        0  \n",
       "5  2016-11-28T04:12:00+0100        0  \n",
       "6  2016-11-28T04:13:00+0100        0  \n",
       "7  2016-11-28T04:13:00+0100        0  "
      ]
     },
     "execution_count": 14,
     "metadata": {},
     "output_type": "execute_result"
    }
   ],
   "source": [
    "df"
   ]
  },
  {
   "cell_type": "code",
   "execution_count": 15,
   "metadata": {
    "collapsed": true
   },
   "outputs": [],
   "source": [
    "datestring = time.strftime(\"%Y-%m-%d_%Hh%m\")"
   ]
  },
  {
   "cell_type": "code",
   "execution_count": 16,
   "metadata": {
    "collapsed": true
   },
   "outputs": [],
   "source": [
    "df.to_csv(\"disruptions_{}.csv\".format(datestring), index=False)"
   ]
  },
  {
   "cell_type": "code",
   "execution_count": null,
   "metadata": {
    "collapsed": true
   },
   "outputs": [],
   "source": []
  },
  {
   "cell_type": "code",
   "execution_count": null,
   "metadata": {
    "collapsed": true
   },
   "outputs": [],
   "source": []
  },
  {
   "cell_type": "markdown",
   "metadata": {},
   "source": [
    "# Genève vu par Wikipédia"
   ]
  },
  {
   "cell_type": "code",
   "execution_count": 6,
   "metadata": {
    "collapsed": true
   },
   "outputs": [],
   "source": [
    "import requests, json, random, re, pandas as pd, time\n",
    "from IPython.core.display import display, HTML"
   ]
  },
  {
   "cell_type": "code",
   "execution_count": 7,
   "metadata": {
    "collapsed": true
   },
   "outputs": [],
   "source": [
    "def query(request, limit):\n",
    "    request['action'] = 'query'\n",
    "    request['format'] = 'json'\n",
    "    lastContinue = {'continue': ''}\n",
    "    counter = 0\n",
    "    while True:\n",
    "        counter += 1\n",
    "        if counter > limit:\n",
    "            break\n",
    "        # Clone original request\n",
    "        req = request.copy()\n",
    "        # Modify it with the values returned in the 'continue' section of the last result.\n",
    "        req.update(lastContinue)\n",
    "        # Call API\n",
    "        result = requests.get('http://en.wikipedia.org/w/api.php', params=req).json()\n",
    "        if 'error' in result:\n",
    "            raise Error(result['error'])\n",
    "        if 'warnings' in result:\n",
    "            print(result['warnings'])\n",
    "        if 'query' in result:\n",
    "            yield result['query']\n",
    "        if 'continue' not in result:\n",
    "            break\n",
    "        lastContinue = result['continue']"
   ]
  },
  {
   "cell_type": "code",
   "execution_count": 8,
   "metadata": {
    "collapsed": false
   },
   "outputs": [
    {
     "name": "stdout",
     "output_type": "stream",
     "text": [
      "Got 10 new results\n",
      "Got 10 new results\n",
      "Got 10 new results\n"
     ]
    }
   ],
   "source": [
    "result_list = []\n",
    "\n",
    "for result in query({'list':'search','srsearch': 'Genève', 'srwhat':'text'}, 3):\n",
    "    print('Got {} new results'.format(len(result['search'])))\n",
    "    result_list.extend(result['search'])"
   ]
  },
  {
   "cell_type": "code",
   "execution_count": 9,
   "metadata": {
    "collapsed": false
   },
   "outputs": [
    {
     "data": {
      "text/html": [
       "<div>\n",
       "<table border=\"1\" class=\"dataframe\">\n",
       "  <thead>\n",
       "    <tr style=\"text-align: right;\">\n",
       "      <th></th>\n",
       "      <th>ns</th>\n",
       "      <th>size</th>\n",
       "      <th>snippet</th>\n",
       "      <th>timestamp</th>\n",
       "      <th>title</th>\n",
       "      <th>wordcount</th>\n",
       "    </tr>\n",
       "  </thead>\n",
       "  <tbody>\n",
       "    <tr>\n",
       "      <th>0</th>\n",
       "      <td>0</td>\n",
       "      <td>100443</td>\n",
       "      <td>industriels, Archives d'État de &lt;span class=\"s...</td>\n",
       "      <td>2016-11-14T05:47:15Z</td>\n",
       "      <td>Geneva</td>\n",
       "      <td>10419</td>\n",
       "    </tr>\n",
       "    <tr>\n",
       "      <th>1</th>\n",
       "      <td>0</td>\n",
       "      <td>5033</td>\n",
       "      <td>&amp;quot;Le Stade de &lt;span class=\"searchmatch\"&gt;Ge...</td>\n",
       "      <td>2016-11-26T15:11:48Z</td>\n",
       "      <td>Stade de Genève</td>\n",
       "      <td>366</td>\n",
       "    </tr>\n",
       "    <tr>\n",
       "      <th>2</th>\n",
       "      <td>0</td>\n",
       "      <td>4930</td>\n",
       "      <td>Sports.   Originally founded as the &lt;span clas...</td>\n",
       "      <td>2016-05-29T23:45:52Z</td>\n",
       "      <td>Lions de Genève</td>\n",
       "      <td>220</td>\n",
       "    </tr>\n",
       "    <tr>\n",
       "      <th>3</th>\n",
       "      <td>0</td>\n",
       "      <td>8475</td>\n",
       "      <td>Vernets. 1963 : Creation of &lt;span class=\"searc...</td>\n",
       "      <td>2016-10-26T12:07:18Z</td>\n",
       "      <td>Genève-Servette HC</td>\n",
       "      <td>868</td>\n",
       "    </tr>\n",
       "    <tr>\n",
       "      <th>4</th>\n",
       "      <td>0</td>\n",
       "      <td>2465</td>\n",
       "      <td>Banque cantonale de &lt;span class=\"searchmatch\"&gt;...</td>\n",
       "      <td>2016-10-25T11:12:48Z</td>\n",
       "      <td>Banque cantonale de Genève</td>\n",
       "      <td>157</td>\n",
       "    </tr>\n",
       "  </tbody>\n",
       "</table>\n",
       "</div>"
      ],
      "text/plain": [
       "   ns    size                                            snippet  \\\n",
       "0   0  100443  industriels, Archives d'État de <span class=\"s...   \n",
       "1   0    5033  &quot;Le Stade de <span class=\"searchmatch\">Ge...   \n",
       "2   0    4930  Sports.   Originally founded as the <span clas...   \n",
       "3   0    8475  Vernets. 1963 : Creation of <span class=\"searc...   \n",
       "4   0    2465  Banque cantonale de <span class=\"searchmatch\">...   \n",
       "\n",
       "              timestamp                       title  wordcount  \n",
       "0  2016-11-14T05:47:15Z                      Geneva      10419  \n",
       "1  2016-11-26T15:11:48Z             Stade de Genève        366  \n",
       "2  2016-05-29T23:45:52Z             Lions de Genève        220  \n",
       "3  2016-10-26T12:07:18Z          Genève-Servette HC        868  \n",
       "4  2016-10-25T11:12:48Z  Banque cantonale de Genève        157  "
      ]
     },
     "execution_count": 9,
     "metadata": {},
     "output_type": "execute_result"
    }
   ],
   "source": [
    "df = pd.DataFrame(result_list)\n",
    "df.head()"
   ]
  },
  {
   "cell_type": "code",
   "execution_count": 10,
   "metadata": {
    "collapsed": true
   },
   "outputs": [],
   "source": [
    "def get_day(timestamp):\n",
    "    return time.strftime('%B %Y', time.strptime(timestamp.split('T')[0], '%Y-%m-%d'))\n",
    "df['date'] = df['timestamp'].apply(get_day)"
   ]
  },
  {
   "cell_type": "code",
   "execution_count": 11,
   "metadata": {
    "collapsed": false
   },
   "outputs": [
    {
     "data": {
      "text/plain": [
       "[{'name': 'April 2016', 'words': ['École Japonaise Complémentaire de Genève']},\n",
       " {'name': 'August 2013', 'words': ['Geneva University of Music']},\n",
       " {'name': 'February 2016', 'words': [\"Musée d'ethnographie de Genève\"]},\n",
       " {'name': 'January 2016', 'words': ['Orchestre de chambre de Genève']},\n",
       " {'name': 'July 2016',\n",
       "  'words': ['Genève-Cornavin railway station', 'Trolleybuses in Geneva']},\n",
       " {'name': 'June 2015', 'words': ['Gli Angeli Genève']},\n",
       " {'name': 'March 2016',\n",
       "  'words': ['Urania Genève Sport', 'Racing Club Genève']},\n",
       " {'name': 'May 2016', 'words': ['Lions de Genève']},\n",
       " {'name': 'November 2014', 'words': ['Conservatoire de Musique de Genève']},\n",
       " {'name': 'November 2016',\n",
       "  'words': ['Geneva',\n",
       "   'Stade de Genève',\n",
       "   'Universal Genève',\n",
       "   'Tribune de Genève',\n",
       "   'Fêtes de Genève',\n",
       "   'Centre d’Art Contemporain Genève',\n",
       "   'Servette FC',\n",
       "   'Canton of Geneva',\n",
       "   'Collège Calvin']},\n",
       " {'name': 'October 2016',\n",
       "  'words': ['Genève-Servette HC',\n",
       "   'Banque cantonale de Genève',\n",
       "   'Paddle steamer Genève',\n",
       "   'Genève RHC',\n",
       "   'À gauche toute! Genève']},\n",
       " {'name': 'September 2015', 'words': ['Grand Théâtre de Genève']},\n",
       " {'name': 'September 2016',\n",
       "  'words': ['Société Nautique de Genève',\n",
       "   'Fédération des Entreprises Romandes Genève',\n",
       "   'Bibliothèque Publique et Universitaire (Geneva)',\n",
       "   'Natural History Museum of Geneva']}]"
      ]
     },
     "execution_count": 11,
     "metadata": {},
     "output_type": "execute_result"
    }
   ],
   "source": [
    "json_list = []\n",
    "for date, group in df.groupby('date'):\n",
    "    titles = []\n",
    "    for index, row in group.iterrows():\n",
    "        titles.append(row['title'])\n",
    "    json_list.append({'name':date, 'words':titles})\n",
    "json_list"
   ]
  },
  {
   "cell_type": "code",
   "execution_count": 12,
   "metadata": {
    "collapsed": true
   },
   "outputs": [],
   "source": [
    "data = []    \n",
    "\n",
    "## return an array with the other nodes to connect to\n",
    "def import_words(word_list):\n",
    "    lines = []\n",
    "    for word in word_list:\n",
    "        lines.append('Title.' + word)\n",
    "    return lines\n",
    "\n",
    "def import_authors(author_list):\n",
    "    lines = []\n",
    "    for author in author_list:\n",
    "        lines.append('Author.' + author)\n",
    "    return lines\n",
    "\n",
    "## create the node data\n",
    "def generate_word(word, deputee):\n",
    "    timports = []\n",
    "    timports.extend(import_authors(deputee))\n",
    "    \n",
    "    element = {\n",
    "        \"name\": \"Title.\" + word,\n",
    "        \"size\": 0,\n",
    "        \"imports\": import_authors(deputee)\n",
    "    }\n",
    "    return element\n",
    "\n",
    "def generate_author(deputee, words):\n",
    "    element = {\n",
    "        \"name\": \"Author.\" + deputee,\n",
    "        \"size\": 0,\n",
    "        \"imports\": import_words(words)\n",
    "    }\n",
    "    return element\n",
    "\n",
    "for item in json_list:\n",
    "    deputee_name = item['name']\n",
    "\n",
    "    for single_word in item['words']:\n",
    "        data.append(generate_word(single_word, [deputee_name]))\n",
    "\n",
    "    deputee = generate_author(deputee_name, item['words'])\n",
    "    data.append(deputee)\n",
    "\n",
    "## export\n",
    "with open('wiki_titles.json', 'w') as outfile:\n",
    "    json.dump(data, outfile, indent=4, separators=(',', ': '))"
   ]
  },
  {
   "cell_type": "code",
   "execution_count": 14,
   "metadata": {
    "collapsed": false
   },
   "outputs": [],
   "source": [
    "# surprise\n",
    "# display(HTML('<iframe src=\"http://rospo.local/~paul/Wiki_dataviz/dataviz.html\" width=\"900\" height=\"900\"></iframe>'))"
   ]
  },
  {
   "cell_type": "code",
   "execution_count": null,
   "metadata": {
    "collapsed": true
   },
   "outputs": [],
   "source": []
  }
 ],
 "metadata": {
  "kernelspec": {
   "display_name": "Python 3",
   "language": "python",
   "name": "python3"
  },
  "language_info": {
   "codemirror_mode": {
    "name": "ipython",
    "version": 3
   },
   "file_extension": ".py",
   "mimetype": "text/x-python",
   "name": "python",
   "nbconvert_exporter": "python",
   "pygments_lexer": "ipython3",
   "version": "3.5.1"
  },
  "widgets": {
   "state": {},
   "version": "1.1.2"
  }
 },
 "nbformat": 4,
 "nbformat_minor": 0
}
